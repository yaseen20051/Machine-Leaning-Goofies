{
 "cells": [
  {
   "cell_type": "code",
   "execution_count": 1,
   "metadata": {},
   "outputs": [
    {
     "name": "stdout",
     "output_type": "stream",
     "text": [
      "71\n"
     ]
    }
   ],
   "source": [
    "# Random Module \n",
    "import numpy as np\n",
    "from numpy import random \n",
    "\n",
    "# random integer   randint()\n",
    "random_int = random.randint(100) # generate numbers from 0 to 100\n",
    "\n",
    "print(random_int)\n"
   ]
  },
  {
   "cell_type": "code",
   "execution_count": 2,
   "metadata": {},
   "outputs": [
    {
     "name": "stdout",
     "output_type": "stream",
     "text": [
      "0.11213068258341363\n"
     ]
    }
   ],
   "source": [
    "# random float rand()\n",
    "random_float = random.rand()\n",
    "\n",
    "print(random_float)"
   ]
  },
  {
   "cell_type": "code",
   "execution_count": 3,
   "metadata": {},
   "outputs": [
    {
     "name": "stdout",
     "output_type": "stream",
     "text": [
      "[5 5 8 8 5 3 4 8 1 1 4 0]\n",
      "[[ 3  6  8]\n",
      " [ 4  3 16]]\n"
     ]
    }
   ],
   "source": [
    "# random array of integers\n",
    "random_integer_array = random.randint(10,size = (12))\n",
    "random_2d_array = random.randint(20,size = (2,3) )\n",
    "print(random_integer_array)\n",
    "print(random_2d_array)"
   ]
  },
  {
   "cell_type": "code",
   "execution_count": 4,
   "metadata": {},
   "outputs": [
    {
     "name": "stdout",
     "output_type": "stream",
     "text": [
      "[8.33371235 3.68788543 9.48227671 2.76050376 9.00916869 2.99992893\n",
      " 8.69220741 2.8419878  7.35748771 1.93044656 5.53163922 7.00570191\n",
      " 1.42056423 7.16376295 6.41289307 0.05462086 2.85617238 2.8070127\n",
      " 0.73490362 1.60894798]\n"
     ]
    }
   ],
   "source": [
    "# random array of floats \n",
    "random_float_array = random.rand(20)*10\n",
    "print(random_float_array)"
   ]
  },
  {
   "cell_type": "code",
   "execution_count": 5,
   "metadata": {},
   "outputs": [
    {
     "name": "stdout",
     "output_type": "stream",
     "text": [
      "[[  1   1  41]\n",
      " [ 41   3   3]\n",
      " [ 41 232 232]\n",
      " [232   1 232]]\n"
     ]
    }
   ],
   "source": [
    "# choose random elements from as specific of numbers in an array \n",
    "array_of_different_collections = random.choice([1,2,3,41,232,12],size = (4,3))\n",
    "print(array_of_different_collections)"
   ]
  },
  {
   "cell_type": "code",
   "execution_count": 6,
   "metadata": {},
   "outputs": [
    {
     "name": "stdout",
     "output_type": "stream",
     "text": [
      "[7 5 5 3 7 7 3 3 3 7 7 7 7 5 5 7 7 7 5 5 7 5 5 5 7 7 5 5 7 7 7 7 7 3 7 7 5\n",
      " 7 7 7 7 7 7 3 5 7 7 7 3 3 7 3 7 7 7 7 7 7 7 5 7 5 7 7 3 3 7 5 7 7 3 7 7 7\n",
      " 5 5 7 5 7 5 7 5 3 7 7 7 7 5 5 7 5 7 3 5 7 5 7 7 5 5]\n"
     ]
    }
   ],
   "source": [
    "x = random.choice([3, 5, 7, 9], p=[0.1, 0.3, 0.6, 0.0], size=(100))\n",
    "\n",
    "print(x) "
   ]
  },
  {
   "cell_type": "code",
   "execution_count": 7,
   "metadata": {},
   "outputs": [
    {
     "data": {
      "image/png": "[encoded data removed]",
      "text/plain": [
       "<Figure size 500x500 with 1 Axes>"
      ]
     },
     "metadata": {},
     "output_type": "display_data"
    }
   ],
   "source": [
    "import matplotlib.pyplot as plt\n",
    "import seaborn as sns\n",
    "\n",
    "sns.displot([0, 1, 2, 3, 4, 5])\n",
    "\n",
    "plt.show() "
   ]
  },
  {
   "cell_type": "code",
   "execution_count": null,
   "metadata": {},
   "outputs": [],
   "source": []
  }
 ],
 "metadata": {
  "kernelspec": {
   "display_name": "base",
   "language": "python",
   "name": "python3"
  },
  "language_info": {
   "codemirror_mode": {
    "name": "ipython",
    "version": 3
   },
   "file_extension": ".py",
   "mimetype": "text/x-python",
   "name": "python",
   "nbconvert_exporter": "python",
   "pygments_lexer": "ipython3",
   "version": "3.13.5"
  }
 },
 "nbformat": 4,
 "nbformat_minor": 2
}
